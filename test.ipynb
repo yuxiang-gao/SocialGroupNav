{
 "metadata": {
  "language_info": {
   "codemirror_mode": {
    "name": "ipython",
    "version": 3
   },
   "file_extension": ".py",
   "mimetype": "text/x-python",
   "name": "python",
   "nbconvert_exporter": "python",
   "pygments_lexer": "ipython3",
   "version": "3.7.7-final"
  },
  "orig_nbformat": 2,
  "kernelspec": {
   "name": "Python 3.7.7 64-bit ('social-force-env')",
   "display_name": "Python 3.7.7 64-bit ('social-force-env')",
   "metadata": {
    "interpreter": {
     "hash": "a7087ed91ab75477b5d7fa11d9ebca0347319bc75df8ebdaeb21a489660e952f"
    }
   }
  }
 },
 "nbformat": 4,
 "nbformat_minor": 2,
 "cells": [
  {
   "cell_type": "code",
   "execution_count": 2,
   "metadata": {},
   "outputs": [],
   "source": [
    "import sys\n",
    "import logging\n",
    "import argparse\n",
    "import os\n",
    "import shutil\n",
    "import importlib.util\n",
    "import torch\n",
    "import gym\n",
    "import copy\n",
    "import git\n",
    "import re\n",
    "from tensorboardX import SummaryWriter\n",
    "from crowd_sim.envs.utils.robot import Robot\n",
    "from crowd_nav.utils.trainer import VNRLTrainer, MPRLTrainer\n",
    "from crowd_nav.utils.memory import ReplayMemory\n",
    "from crowd_nav.utils.explorer import Explorer\n",
    "from crowd_nav.policy.policy_factory import policy_factory"
   ]
  },
  {
   "cell_type": "code",
   "execution_count": 5,
   "metadata": {},
   "outputs": [],
   "source": [
    "from crowd_nav.configs.icra_benchmark.config import BaseEnvConfig, BasePolicyConfig, BaseTrainConfig, Config\n",
    "\n",
    "\n",
    "class EnvConfig(BaseEnvConfig):\n",
    "    def __init__(self, debug=False):\n",
    "        super(EnvConfig, self).__init__(debug)\n",
    "\n",
    "\n",
    "class PolicyConfig(BasePolicyConfig):\n",
    "    def __init__(self, debug=False):\n",
    "        super(PolicyConfig, self).__init__(debug)\n",
    "        self.name = 'model_predictive_rl'\n",
    "\n",
    "        # gcn\n",
    "        self.gcn.num_layer = 2\n",
    "        self.gcn.X_dim = 32\n",
    "        self.gcn.similarity_function = 'embedded_gaussian'\n",
    "        self.gcn.layerwise_graph = False\n",
    "        self.gcn.skip_connection = True\n",
    "\n",
    "        self.model_predictive_rl = Config()\n",
    "        self.model_predictive_rl.linear_state_predictor = True\n",
    "        self.model_predictive_rl.planning_depth = 1\n",
    "        self.model_predictive_rl.planning_width = 1\n",
    "        self.model_predictive_rl.do_action_clip = False\n",
    "        self.model_predictive_rl.motion_predictor_dims = [64, 5]\n",
    "        self.model_predictive_rl.value_network_dims = [32, 100, 100, 1]\n",
    "        self.model_predictive_rl.share_graph_model = False\n",
    "\n",
    "\n",
    "class TrainConfig(BaseTrainConfig):\n",
    "    def __init__(self, debug=False):\n",
    "        super(TrainConfig, self).__init__(debug)\n",
    "\n",
    "        self.train.freeze_state_predictor = False\n",
    "        self.train.detach_state_predictor = False\n",
    "        self.train.reduce_sp_update_frequency = False\n"
   ]
  },
  {
   "cell_type": "code",
   "execution_count": 9,
   "metadata": {
    "tags": []
   },
   "outputs": [
    {
     "output_type": "stream",
     "name": "stderr",
     "text": "WARNING:root:Current socialforce policy only works in decentralized way with visible robot!\n"
    }
   ],
   "source": [
    "# configure policy\n",
    "policy_config = PolicyConfig()\n",
    "policy = policy_factory[policy_config.name]()\n",
    "if not policy.trainable:\n",
    "    parser.error('Policy has to be trainable')\n",
    "policy.configure(policy_config)\n",
    "policy.set_device(0)\n",
    "\n",
    "# configure environment\n",
    "env_config = EnvConfig(True)\n",
    "env = gym.make('CrowdSim-v0')\n",
    "env.configure(env_config)\n",
    "robot = Robot(env_config, 'robot')\n",
    "robot.time_step = env.time_step\n",
    "env.set_robot(robot)"
   ]
  },
  {
   "cell_type": "code",
   "execution_count": null,
   "metadata": {},
   "outputs": [],
   "source": []
  }
 ]
}